{
 "cells": [
  {
   "cell_type": "markdown",
   "id": "b692e460",
   "metadata": {},
   "source": [
    "## 04803- Programming and Problem Solving for Data Analytics Recitation 1"
   ]
  },
  {
   "cell_type": "markdown",
   "id": "e7566043",
   "metadata": {},
   "source": [
    "### Exercise 1:Give example code that uses both break and continue statements"
   ]
  },
  {
   "cell_type": "code",
   "execution_count": 1,
   "id": "d8ab649a",
   "metadata": {},
   "outputs": [
    {
     "name": "stdout",
     "output_type": "stream",
     "text": [
      "Eugenia\n",
      "Christain\n",
      "Ines\n"
     ]
    }
   ],
   "source": [
    "students = [\"Patience\", \"Eugenia\", \"Christain\",\"Ines\",\"Chukwuemeka\", \"Eric\"]\n",
    "\n",
    "for student in students:\n",
    "    if student == \"Patience\":\n",
    "        continue\n",
    "    if student == \"Chukwuemeka\":\n",
    "        break\n",
    "    print(student)"
   ]
  },
  {
   "cell_type": "code",
   "execution_count": null,
   "id": "cc46c688",
   "metadata": {},
   "outputs": [],
   "source": []
  },
  {
   "cell_type": "markdown",
   "id": "424f6895",
   "metadata": {},
   "source": [
    "### Exercise 2: Write a program that reads the name, age, weight, and height of an individual and prints out the details in the form:"
   ]
  },
  {
   "cell_type": "code",
   "execution_count": 2,
   "id": "6b74f1de",
   "metadata": {},
   "outputs": [],
   "source": [
    "#Name: <name value>\n",
    "# Age: <age value> years old\n",
    "# Weight: <weight value> kgs\n",
    "# Height: <height value> cm"
   ]
  },
  {
   "cell_type": "code",
   "execution_count": 3,
   "id": "614c4cdc",
   "metadata": {},
   "outputs": [
    {
     "name": "stdout",
     "output_type": "stream",
     "text": [
      "Please enter your name: Ester\n",
      "What is your age? 50\n",
      "What is your weight? 50\n",
      "What is your height? 180\n"
     ]
    }
   ],
   "source": [
    "name = input(\"Please enter your name: \")\n",
    "age = input(\"What is your age? \")\n",
    "weight = input(\"What is your weight? \")\n",
    "height = input(\"What is your height? \")"
   ]
  },
  {
   "cell_type": "code",
   "execution_count": 4,
   "id": "1e694b4b",
   "metadata": {},
   "outputs": [
    {
     "name": "stdout",
     "output_type": "stream",
     "text": [
      "Name: Ester\n",
      "Age: 50 years old\n",
      "Weight: 50 kgs\n",
      "Height: 180 cm\n"
     ]
    }
   ],
   "source": [
    "print(\"Name:\", name)\n",
    "print(\"Age:\", age, \"years old\")\n",
    "print(\"Weight:\", weight, \"kgs\")\n",
    "print(\"Height:\", height, \"cm\")"
   ]
  },
  {
   "cell_type": "code",
   "execution_count": 5,
   "id": "7f94efa1",
   "metadata": {},
   "outputs": [
    {
     "name": "stdout",
     "output_type": "stream",
     "text": [
      "Name: Ester\n",
      "Age: 50 years old\n",
      "Weight: 50 kgs\n",
      "Height: 180 cm\n"
     ]
    }
   ],
   "source": [
    "print(\"Name: \"+ name)\n",
    "print(\"Age: \" + age + \" years old\")\n",
    "print(\"Weight: \" + weight + \" kgs\")\n",
    "print(\"Height: \"+ height + \" cm\")"
   ]
  },
  {
   "cell_type": "markdown",
   "id": "50e059e1",
   "metadata": {},
   "source": [
    "#### NB: Adding spaces to the strings makes the output more elegant"
   ]
  },
  {
   "cell_type": "code",
   "execution_count": 6,
   "id": "9aa4346f",
   "metadata": {},
   "outputs": [
    {
     "name": "stdout",
     "output_type": "stream",
     "text": [
      "Name: Ester\n",
      "Age: 50 years old\n",
      "Weight: 50 kgs\n",
      "Height: 180 cm\n"
     ]
    }
   ],
   "source": [
    "print(f\"Name: {name}\")\n",
    "print(f\"Age: {age} years old\")\n",
    "print(f\"Weight: {weight} kgs\")\n",
    "print(f\"Height: {height} cm\")"
   ]
  },
  {
   "cell_type": "markdown",
   "id": "793b5d3e",
   "metadata": {},
   "source": [
    "### Any other?"
   ]
  },
  {
   "cell_type": "code",
   "execution_count": 7,
   "id": "f5abd0b0",
   "metadata": {},
   "outputs": [],
   "source": [
    "sum = [1,2,3,5]"
   ]
  },
  {
   "cell_type": "markdown",
   "id": "c13ebd08",
   "metadata": {},
   "source": [
    "### Exercise 3: Write a program that calculates exponentials of the form xy. Your program asks the user for a base x and an exponent y, and calculates xy"
   ]
  },
  {
   "cell_type": "code",
   "execution_count": 8,
   "id": "f59b1aeb",
   "metadata": {},
   "outputs": [
    {
     "name": "stdout",
     "output_type": "stream",
     "text": [
      "What is the base x? 1\n",
      "What is the exponent y? 2\n"
     ]
    }
   ],
   "source": [
    "x = input(\"What is the base x? \")\n",
    "y = input(\"What is the exponent y? \")\n",
    "\n",
    "def calculate_exponentials(a,b):\n",
    "    exponential = a ** b\n",
    "    return exponential"
   ]
  },
  {
   "cell_type": "code",
   "execution_count": 10,
   "id": "665dffd2",
   "metadata": {},
   "outputs": [],
   "source": [
    "#calculate_exponentials(x,y)  # This doesn't work. Why?"
   ]
  },
  {
   "cell_type": "markdown",
   "id": "c342c407",
   "metadata": {},
   "source": []
  },
  {
   "cell_type": "code",
   "execution_count": 11,
   "id": "cf054e35",
   "metadata": {},
   "outputs": [
    {
     "name": "stdout",
     "output_type": "stream",
     "text": [
      "What is the base x? 1\n",
      "What is the exponent y? 2\n"
     ]
    }
   ],
   "source": [
    "x = int(input(\"What is the base x? \"))   #Cast to an integer\n",
    "y = int(input(\"What is the exponent y? \"))\n",
    "\n",
    "def calculate_exponentials(a,b):\n",
    "    exponential = a ** b\n",
    "    return exponential"
   ]
  },
  {
   "cell_type": "code",
   "execution_count": 12,
   "id": "6981baa0",
   "metadata": {},
   "outputs": [
    {
     "data": {
      "text/plain": [
       "1"
      ]
     },
     "execution_count": 12,
     "metadata": {},
     "output_type": "execute_result"
    }
   ],
   "source": [
    "calculate_exponentials(x,y)"
   ]
  },
  {
   "cell_type": "code",
   "execution_count": null,
   "id": "92f5089d",
   "metadata": {},
   "outputs": [],
   "source": []
  },
  {
   "cell_type": "markdown",
   "id": "849598f4",
   "metadata": {},
   "source": [
    "### Exercise 4: Write a program that uses a while loop and asks the user for a number, and prints the square root of all numbers from one(1) to that number. Issue a suitable message if the input is less than 1 or greater that 100."
   ]
  },
  {
   "cell_type": "code",
   "execution_count": 13,
   "id": "d28eb529",
   "metadata": {},
   "outputs": [
    {
     "name": "stdout",
     "output_type": "stream",
     "text": [
      "Enter a number(integer): 50\n",
      "Your number is between 1 and 100\n",
      "num: 1, square: 1\n",
      "num: 2, square: 4\n",
      "num: 3, square: 9\n",
      "num: 4, square: 16\n",
      "num: 5, square: 25\n",
      "num: 6, square: 36\n",
      "num: 7, square: 49\n",
      "num: 8, square: 64\n",
      "num: 9, square: 81\n",
      "num: 10, square: 100\n",
      "num: 11, square: 121\n",
      "num: 12, square: 144\n",
      "num: 13, square: 169\n",
      "num: 14, square: 196\n",
      "num: 15, square: 225\n",
      "num: 16, square: 256\n",
      "num: 17, square: 289\n",
      "num: 18, square: 324\n",
      "num: 19, square: 361\n",
      "num: 20, square: 400\n",
      "num: 21, square: 441\n",
      "num: 22, square: 484\n",
      "num: 23, square: 529\n",
      "num: 24, square: 576\n",
      "num: 25, square: 625\n",
      "num: 26, square: 676\n",
      "num: 27, square: 729\n",
      "num: 28, square: 784\n",
      "num: 29, square: 841\n",
      "num: 30, square: 900\n",
      "num: 31, square: 961\n",
      "num: 32, square: 1024\n",
      "num: 33, square: 1089\n",
      "num: 34, square: 1156\n",
      "num: 35, square: 1225\n",
      "num: 36, square: 1296\n",
      "num: 37, square: 1369\n",
      "num: 38, square: 1444\n",
      "num: 39, square: 1521\n",
      "num: 40, square: 1600\n",
      "num: 41, square: 1681\n",
      "num: 42, square: 1764\n",
      "num: 43, square: 1849\n",
      "num: 44, square: 1936\n",
      "num: 45, square: 2025\n",
      "num: 46, square: 2116\n",
      "num: 47, square: 2209\n",
      "num: 48, square: 2304\n",
      "num: 49, square: 2401\n",
      "num: 50, square: 2500\n"
     ]
    }
   ],
   "source": [
    "num_input = int(input(\"Enter a number(integer): \"))\n",
    "counter = 1\n",
    "if num_input < 1 :\n",
    "    print(\"Your number is less than 1\")\n",
    "elif num_input >= 1 and num_input <= 100: #why \"and\" not \"or\"?\n",
    "    print(\"Your number is between 1 and 100\")\n",
    "elif num_input > 100:\n",
    "    print(\"Your number is greater than 100\")\n",
    "\n",
    "# What happens when you use multiple if statements, and not elif? \n",
    "    \n",
    "while counter <= abs(num_input): #Why do we have absolute here?\n",
    "    print(f\"num: {counter}, square: {counter**2}\")\n",
    "    counter += 1"
   ]
  },
  {
   "cell_type": "code",
   "execution_count": null,
   "id": "07c31aaa",
   "metadata": {},
   "outputs": [],
   "source": []
  },
  {
   "cell_type": "code",
   "execution_count": 8,
   "id": "3611fc43",
   "metadata": {},
   "outputs": [
    {
     "name": "stdout",
     "output_type": "stream",
     "text": [
      "Enter a number(integer): 20\n",
      "num: 1, square: 1\n",
      "num: 2, square: 4\n",
      "num: 3, square: 9\n",
      "num: 4, square: 16\n",
      "num: 5, square: 25\n",
      "num: 6, square: 36\n",
      "num: 7, square: 49\n",
      "num: 8, square: 64\n",
      "num: 9, square: 81\n",
      "num: 10, square: 100\n",
      "num: 11, square: 121\n",
      "num: 12, square: 144\n",
      "num: 13, square: 169\n",
      "num: 14, square: 196\n",
      "num: 15, square: 225\n",
      "num: 16, square: 256\n",
      "num: 17, square: 289\n",
      "num: 18, square: 324\n",
      "num: 19, square: 361\n",
      "num: 20, square: 400\n"
     ]
    }
   ],
   "source": [
    "#A better approach?\n",
    "\n",
    "num_input = eval(input(\"Enter a number(integer): \"))\n",
    "counter = 1\n",
    "if num_input < 1:\n",
    "    print(\"Your number is less than 1\")\n",
    "elif num_input > 100:\n",
    "    print(\"Your number is greater than 100 and out of range\")\n",
    "else:\n",
    "    while counter <= abs(num_input): #Why do we have absolute here?\n",
    "        print(f\"num: {counter}, square: {counter**2}\")\n",
    "        counter += 1"
   ]
  },
  {
   "cell_type": "markdown",
   "id": "9915322d",
   "metadata": {},
   "source": [
    "### Lists"
   ]
  },
  {
   "cell_type": "markdown",
   "id": "dac1b128",
   "metadata": {},
   "source": [
    "#### List indexing"
   ]
  },
  {
   "cell_type": "code",
   "execution_count": 14,
   "id": "e7c39c7d",
   "metadata": {},
   "outputs": [],
   "source": [
    "list_numbers = [1,2,3,4,5,6]"
   ]
  },
  {
   "cell_type": "code",
   "execution_count": 15,
   "id": "addc0b8b",
   "metadata": {},
   "outputs": [
    {
     "data": {
      "text/plain": [
       "6"
      ]
     },
     "execution_count": 15,
     "metadata": {},
     "output_type": "execute_result"
    }
   ],
   "source": [
    "len(list_numbers)"
   ]
  },
  {
   "cell_type": "code",
   "execution_count": 16,
   "id": "837bf082",
   "metadata": {},
   "outputs": [
    {
     "data": {
      "text/plain": [
       "[1, 2, 3, 4, 5]"
      ]
     },
     "execution_count": 16,
     "metadata": {},
     "output_type": "execute_result"
    }
   ],
   "source": [
    "### Print all values minus the last number\n",
    "list_numbers[:-1]"
   ]
  },
  {
   "cell_type": "code",
   "execution_count": 17,
   "id": "407fbd1b",
   "metadata": {},
   "outputs": [],
   "source": [
    "#list_numbers[6]"
   ]
  },
  {
   "cell_type": "code",
   "execution_count": 18,
   "id": "f57201c5",
   "metadata": {},
   "outputs": [
    {
     "data": {
      "text/plain": [
       "[6, 5, 4, 3, 2, 1]"
      ]
     },
     "execution_count": 18,
     "metadata": {},
     "output_type": "execute_result"
    }
   ],
   "source": [
    "#### reverse the list\n",
    "list_numbers[::-1]"
   ]
  },
  {
   "cell_type": "code",
   "execution_count": 19,
   "id": "ec8f52c3",
   "metadata": {},
   "outputs": [
    {
     "data": {
      "text/plain": [
       "[1, 3, 5]"
      ]
     },
     "execution_count": 19,
     "metadata": {},
     "output_type": "execute_result"
    }
   ],
   "source": [
    "list_numbers[::2]"
   ]
  },
  {
   "cell_type": "code",
   "execution_count": 20,
   "id": "c3480eab",
   "metadata": {},
   "outputs": [
    {
     "data": {
      "text/plain": [
       "[1, 2, 3]"
      ]
     },
     "execution_count": 20,
     "metadata": {},
     "output_type": "execute_result"
    }
   ],
   "source": [
    "### select just half of the list\n",
    "list_numbers[:len(list_numbers)//2] "
   ]
  },
  {
   "cell_type": "code",
   "execution_count": 21,
   "id": "52c5449d",
   "metadata": {},
   "outputs": [
    {
     "data": {
      "text/plain": [
       "[1, 2, 3]"
      ]
     },
     "execution_count": 21,
     "metadata": {},
     "output_type": "execute_result"
    }
   ],
   "source": [
    "### select just half of the list\n",
    "list_numbers[:int(len(list_numbers)/2)] #why did we cast to an integer here?"
   ]
  },
  {
   "cell_type": "code",
   "execution_count": 22,
   "id": "e7c6584a",
   "metadata": {},
   "outputs": [
    {
     "data": {
      "text/plain": [
       "3.0"
      ]
     },
     "execution_count": 22,
     "metadata": {},
     "output_type": "execute_result"
    }
   ],
   "source": [
    "len(list_numbers)/2"
   ]
  },
  {
   "cell_type": "markdown",
   "id": "af12c539",
   "metadata": {},
   "source": [
    "#### Our list can also be other data types"
   ]
  },
  {
   "cell_type": "code",
   "execution_count": 23,
   "id": "52dea9f6",
   "metadata": {},
   "outputs": [],
   "source": [
    "fruits = [\"watermelon\", \"guava\", \"apple\", \"orange\"]"
   ]
  },
  {
   "cell_type": "code",
   "execution_count": 24,
   "id": "7a611a61",
   "metadata": {},
   "outputs": [
    {
     "data": {
      "text/plain": [
       "['watermelon', 'guava']"
      ]
     },
     "execution_count": 24,
     "metadata": {},
     "output_type": "execute_result"
    }
   ],
   "source": [
    "fruits[:2]"
   ]
  },
  {
   "cell_type": "code",
   "execution_count": 25,
   "id": "27eb204e",
   "metadata": {},
   "outputs": [
    {
     "data": {
      "text/plain": [
       "['orange', 'apple', 'guava', 'watermelon']"
      ]
     },
     "execution_count": 25,
     "metadata": {},
     "output_type": "execute_result"
    }
   ],
   "source": [
    "fruits[::-1]"
   ]
  },
  {
   "cell_type": "code",
   "execution_count": 26,
   "id": "ec9ffdbd",
   "metadata": {},
   "outputs": [
    {
     "data": {
      "text/plain": [
       "['apple', 'guava', 'orange', 'watermelon']"
      ]
     },
     "execution_count": 26,
     "metadata": {},
     "output_type": "execute_result"
    }
   ],
   "source": [
    "sorted(fruits)"
   ]
  },
  {
   "cell_type": "code",
   "execution_count": null,
   "id": "0dbda391",
   "metadata": {},
   "outputs": [],
   "source": []
  },
  {
   "cell_type": "code",
   "execution_count": null,
   "id": "36cf6de2",
   "metadata": {},
   "outputs": [],
   "source": [
    "#What is the difference between sort and sorted?"
   ]
  },
  {
   "cell_type": "code",
   "execution_count": 27,
   "id": "cb4a4586",
   "metadata": {},
   "outputs": [
    {
     "name": "stdout",
     "output_type": "stream",
     "text": [
      "[1, 3, 4, 5, 6]\n"
     ]
    }
   ],
   "source": [
    "list_num = [1,4,5,3,6]\n",
    "list_num.sort()\n",
    "print(list_num)\n",
    "\n",
    "#Acts on the list"
   ]
  },
  {
   "cell_type": "code",
   "execution_count": 28,
   "id": "1ad75814",
   "metadata": {},
   "outputs": [
    {
     "name": "stdout",
     "output_type": "stream",
     "text": [
      "[1, 4, 5, 3, 6]\n"
     ]
    }
   ],
   "source": [
    "list_num = [1,4,5,3,6]\n",
    "sorted(list_num)\n",
    "print(list_num)\n",
    "\n",
    "#Does not change the initial list"
   ]
  },
  {
   "cell_type": "code",
   "execution_count": 29,
   "id": "38f8bd89",
   "metadata": {},
   "outputs": [
    {
     "name": "stdout",
     "output_type": "stream",
     "text": [
      "[1, 3, 4, 5, 6]\n"
     ]
    }
   ],
   "source": [
    "#You have to set to a variable\n",
    "\n",
    "new_list = sorted(list_num)\n",
    "print(new_list)"
   ]
  },
  {
   "cell_type": "markdown",
   "id": "23056cf1",
   "metadata": {},
   "source": [
    "####  What happens when you try to set the sort operation to a new variable?"
   ]
  },
  {
   "cell_type": "code",
   "execution_count": 30,
   "id": "1ff8b7fc",
   "metadata": {},
   "outputs": [],
   "source": [
    "# list_num = [1,4,5,3,6]\n",
    "# list2 = list_num.sort()\n"
   ]
  },
  {
   "cell_type": "code",
   "execution_count": 32,
   "id": "23098216",
   "metadata": {},
   "outputs": [],
   "source": [
    "#print(list2)"
   ]
  },
  {
   "cell_type": "code",
   "execution_count": 33,
   "id": "5afe3921",
   "metadata": {},
   "outputs": [
    {
     "data": {
      "text/plain": [
       "[1, 4, 5, 3, 6]"
      ]
     },
     "execution_count": 33,
     "metadata": {},
     "output_type": "execute_result"
    }
   ],
   "source": [
    "list_num"
   ]
  },
  {
   "cell_type": "code",
   "execution_count": null,
   "id": "7218e16b",
   "metadata": {},
   "outputs": [],
   "source": []
  },
  {
   "cell_type": "code",
   "execution_count": 34,
   "id": "797e5f2b",
   "metadata": {},
   "outputs": [],
   "source": [
    "#Tell the user to enter a number, then make a list of 1 to the number"
   ]
  },
  {
   "cell_type": "code",
   "execution_count": 37,
   "id": "85e33280",
   "metadata": {},
   "outputs": [
    {
     "name": "stdout",
     "output_type": "stream",
     "text": [
      "Enter a number: 4\n",
      "[1, 2, 3, 4]\n"
     ]
    }
   ],
   "source": [
    "num_input = int(input(\"Enter a number: \"))\n",
    "\n",
    "\n",
    "number_list = []\n",
    "for num in range(num_input):\n",
    "    number_list.append(num + 1)\n",
    "print(number_list)\n",
    "    \n",
    "#What is a more elegant way to do this?  ==> List Comprehension"
   ]
  },
  {
   "cell_type": "markdown",
   "id": "9c82b15e",
   "metadata": {},
   "source": [
    "#### List Comprehension"
   ]
  },
  {
   "cell_type": "code",
   "execution_count": 38,
   "id": "db1a07bb",
   "metadata": {},
   "outputs": [
    {
     "data": {
      "text/plain": [
       "[1, 2, 3, 4]"
      ]
     },
     "execution_count": 38,
     "metadata": {},
     "output_type": "execute_result"
    }
   ],
   "source": [
    "[num + 1 for num in range(num_input)] #Just a line of code!"
   ]
  },
  {
   "cell_type": "code",
   "execution_count": 39,
   "id": "4b387938",
   "metadata": {},
   "outputs": [
    {
     "data": {
      "text/plain": [
       "[2, 3, 4]"
      ]
     },
     "execution_count": 39,
     "metadata": {},
     "output_type": "execute_result"
    }
   ],
   "source": [
    "[num + 1 for num in range(num_input) if num != 0] #To exclude 1 from the list"
   ]
  },
  {
   "cell_type": "markdown",
   "id": "3600271c",
   "metadata": {},
   "source": [
    "### Sets"
   ]
  },
  {
   "cell_type": "code",
   "execution_count": 40,
   "id": "e0dab2ad",
   "metadata": {},
   "outputs": [],
   "source": [
    "# Write a program to take number inputs from the user and ignore duplicates"
   ]
  },
  {
   "cell_type": "code",
   "execution_count": 42,
   "id": "7c90d35e",
   "metadata": {},
   "outputs": [
    {
     "name": "stdout",
     "output_type": "stream",
     "text": [
      "Enter a number. Enter -1 to terminate: 2\n",
      "Enter a number. Enter -1 to terminate: 3\n",
      "Enter a number. Enter -1 to terminate: 3\n",
      "Enter a number. Enter -1 to terminate: 1\n",
      "Enter a number. Enter -1 to terminate: 2\n",
      "Enter a number. Enter -1 to terminate: 5\n",
      "Enter a number. Enter -1 to terminate: -1\n",
      "{1, 2, 3, 5}\n"
     ]
    }
   ],
   "source": [
    "num_input = 0 #Why do we do this?\n",
    "set_numbers = set()\n",
    "while num_input != -1:\n",
    "    num_input = int(input(\"Enter a number. Enter -1 to terminate: \"))\n",
    "    if num_input == -1:  #Why do we have this part in the code?\n",
    "        continue\n",
    "    set_numbers.add(num_input)\n",
    "\n",
    "print(set_numbers)\n",
    "    "
   ]
  },
  {
   "cell_type": "code",
   "execution_count": 43,
   "id": "135a2c8f",
   "metadata": {},
   "outputs": [
    {
     "data": {
      "text/plain": [
       "{1, 2, 3, 6}"
      ]
     },
     "execution_count": 43,
     "metadata": {},
     "output_type": "execute_result"
    }
   ],
   "source": [
    "set([1,2,3,3,6])"
   ]
  },
  {
   "cell_type": "markdown",
   "id": "fc15b8c8",
   "metadata": {},
   "source": [
    "### Dictionaries"
   ]
  },
  {
   "cell_type": "code",
   "execution_count": 44,
   "id": "ca688142",
   "metadata": {},
   "outputs": [],
   "source": [
    "car_colours = {\"BMW\": \"Yellow\", \"Benz\": \"Black\", \"Toyota\" : \"Grey\", \"Honda\" : \"White\"}"
   ]
  },
  {
   "cell_type": "code",
   "execution_count": 45,
   "id": "76e881e6",
   "metadata": {},
   "outputs": [
    {
     "data": {
      "text/plain": [
       "['BMW', 'Benz', 'Toyota', 'Honda']"
      ]
     },
     "execution_count": 45,
     "metadata": {},
     "output_type": "execute_result"
    }
   ],
   "source": [
    "#How do we get a list of all the colours?\n",
    "[car for car in car_colours.keys()]\n"
   ]
  },
  {
   "cell_type": "code",
   "execution_count": 46,
   "id": "1acd6a23",
   "metadata": {},
   "outputs": [
    {
     "data": {
      "text/plain": [
       "['Yellow', 'Black', 'Grey', 'White']"
      ]
     },
     "execution_count": 46,
     "metadata": {},
     "output_type": "execute_result"
    }
   ],
   "source": [
    "#How do we get all the cars?\n",
    "[colour for colour in car_colours.values()]\n",
    "\n",
    "#Another way to do this?"
   ]
  },
  {
   "cell_type": "code",
   "execution_count": 47,
   "id": "dec9b4c8",
   "metadata": {},
   "outputs": [
    {
     "data": {
      "text/plain": [
       "['Yellow', 'Black', 'Grey', 'White']"
      ]
     },
     "execution_count": 47,
     "metadata": {},
     "output_type": "execute_result"
    }
   ],
   "source": [
    "\n",
    "[colour for car, colour in car_colours.items()]"
   ]
  },
  {
   "cell_type": "code",
   "execution_count": 48,
   "id": "75442477",
   "metadata": {},
   "outputs": [
    {
     "data": {
      "text/plain": [
       "['BMW', 'Benz', 'Toyota', 'Honda']"
      ]
     },
     "execution_count": 48,
     "metadata": {},
     "output_type": "execute_result"
    }
   ],
   "source": [
    "[car for car, colour in car_colours.items()]"
   ]
  },
  {
   "cell_type": "code",
   "execution_count": 49,
   "id": "cb82bfaa",
   "metadata": {},
   "outputs": [
    {
     "data": {
      "text/plain": [
       "'Black'"
      ]
     },
     "execution_count": 49,
     "metadata": {},
     "output_type": "execute_result"
    }
   ],
   "source": [
    "#How do we get the colour of benz?\n",
    "car_colours[\"Benz\"]"
   ]
  },
  {
   "cell_type": "code",
   "execution_count": null,
   "id": "d32bcaa7",
   "metadata": {},
   "outputs": [],
   "source": []
  },
  {
   "cell_type": "markdown",
   "id": "6ab288b0",
   "metadata": {},
   "source": [
    "### Args and Kwargs"
   ]
  },
  {
   "cell_type": "code",
   "execution_count": 50,
   "id": "60674e95",
   "metadata": {},
   "outputs": [],
   "source": [
    "#Write a program to compute a mathematical function. It takes 4 numbers. in the order a, b,c , d\n",
    "\n",
    "#y = a**2 + 2bc + d"
   ]
  },
  {
   "cell_type": "code",
   "execution_count": 51,
   "id": "def40679",
   "metadata": {},
   "outputs": [],
   "source": [
    "def calculate_func_arg(*arg):\n",
    "    y = arg[0]**2 + 2*(arg[1]*arg[2]) + arg[3]\n",
    "    return y"
   ]
  },
  {
   "cell_type": "code",
   "execution_count": 52,
   "id": "371addb6",
   "metadata": {},
   "outputs": [
    {
     "name": "stdout",
     "output_type": "stream",
     "text": [
      "13\n"
     ]
    }
   ],
   "source": [
    "print(calculate_func_arg(1,2,3,0))"
   ]
  },
  {
   "cell_type": "code",
   "execution_count": null,
   "id": "cadf16df",
   "metadata": {
    "scrolled": true
   },
   "outputs": [],
   "source": []
  },
  {
   "cell_type": "markdown",
   "id": "32a2e11f",
   "metadata": {},
   "source": [
    "##### What if our user doesn't follow the order?"
   ]
  },
  {
   "cell_type": "code",
   "execution_count": 53,
   "id": "a9fd9a5f",
   "metadata": {},
   "outputs": [],
   "source": [
    "def calculate_func_kwargs(**kwargs):\n",
    "    y = kwargs[\"a\"]**2 + 2*(kwargs[\"b\"]*kwargs[\"c\"]) + kwargs[\"d\"]\n",
    "    return y"
   ]
  },
  {
   "cell_type": "code",
   "execution_count": 54,
   "id": "4e835771",
   "metadata": {},
   "outputs": [
    {
     "name": "stdout",
     "output_type": "stream",
     "text": [
      "13\n"
     ]
    }
   ],
   "source": [
    "user_input = {\"a\":1,\"b\":2, \"c\": 3, \"d\": 0}\n",
    "print(calculate_func_kwargs(**user_input))"
   ]
  },
  {
   "cell_type": "code",
   "execution_count": 55,
   "id": "1583ae05",
   "metadata": {},
   "outputs": [],
   "source": [
    "#We can also pass values from a function directly"
   ]
  },
  {
   "cell_type": "code",
   "execution_count": 56,
   "id": "21f355cb",
   "metadata": {},
   "outputs": [],
   "source": [
    "def user_values():\n",
    "    user_input = input(\"Enter the coefficients a,b,c,d \").split(\",\")\n",
    "    user_input = [int(num) for num in user_input]\n",
    "    a,b,c,d = user_input[0], user_input[1], user_input[2], user_input[3]\n",
    "    \n",
    "    return a,b,c,d"
   ]
  },
  {
   "cell_type": "code",
   "execution_count": 57,
   "id": "f93f2640",
   "metadata": {},
   "outputs": [
    {
     "name": "stdout",
     "output_type": "stream",
     "text": [
      "Enter the coefficients a,b,c,d 1,2,3,0\n"
     ]
    },
    {
     "data": {
      "text/plain": [
       "13"
      ]
     },
     "execution_count": 57,
     "metadata": {},
     "output_type": "execute_result"
    }
   ],
   "source": [
    "calculate_func_arg(*user_values())"
   ]
  },
  {
   "cell_type": "code",
   "execution_count": 58,
   "id": "360dfaa2",
   "metadata": {},
   "outputs": [],
   "source": [
    "#What happens when we remove *\n",
    "#calculate_func_arg(user_values())"
   ]
  },
  {
   "cell_type": "markdown",
   "id": "6b12ea03",
   "metadata": {},
   "source": [
    "##### How do we define args with constants?"
   ]
  },
  {
   "cell_type": "code",
   "execution_count": 59,
   "id": "e3b4e06b",
   "metadata": {},
   "outputs": [],
   "source": [
    "def calculate_func_arg(*arg, d = 0):\n",
    "    y = arg[0]**2 + 2*(arg[1]*arg[2]) + d\n",
    "    return y"
   ]
  },
  {
   "cell_type": "code",
   "execution_count": 60,
   "id": "30bb2bcc",
   "metadata": {},
   "outputs": [
    {
     "name": "stdout",
     "output_type": "stream",
     "text": [
      "13\n"
     ]
    }
   ],
   "source": [
    "print(calculate_func_arg(1,2,3,0))"
   ]
  },
  {
   "cell_type": "markdown",
   "id": "9439293f",
   "metadata": {},
   "source": [
    "#### What happens when you switch the order?"
   ]
  },
  {
   "cell_type": "code",
   "execution_count": 61,
   "id": "b0b5d984",
   "metadata": {},
   "outputs": [],
   "source": [
    "def calculate_func_arg(d = 0, *arg):\n",
    "    y = arg[0]**2 + 2*(arg[1]*arg[2]) + d\n",
    "    return y"
   ]
  },
  {
   "cell_type": "code",
   "execution_count": 62,
   "id": "7e326fde",
   "metadata": {},
   "outputs": [
    {
     "name": "stdout",
     "output_type": "stream",
     "text": [
      "5\n"
     ]
    }
   ],
   "source": [
    "print(calculate_func_arg(1,2,3,0))  #What is going on?"
   ]
  },
  {
   "cell_type": "code",
   "execution_count": null,
   "id": "947367e7",
   "metadata": {},
   "outputs": [],
   "source": []
  }
 ],
 "metadata": {
  "kernelspec": {
   "display_name": "Python 3",
   "language": "python",
   "name": "python3"
  },
  "language_info": {
   "codemirror_mode": {
    "name": "ipython",
    "version": 3
   },
   "file_extension": ".py",
   "mimetype": "text/x-python",
   "name": "python",
   "nbconvert_exporter": "python",
   "pygments_lexer": "ipython3",
   "version": "3.8.8"
  }
 },
 "nbformat": 4,
 "nbformat_minor": 5
}
